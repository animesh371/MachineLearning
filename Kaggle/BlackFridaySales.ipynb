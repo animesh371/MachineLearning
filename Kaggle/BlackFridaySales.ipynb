{
  "cells": [
    {
      "metadata": {
        "_uuid": "8f2839f25d086af736a60e9eeb907d3b93b6e0e5",
        "_cell_guid": "b1076dfc-b9ad-4769-8c92-a6c4dae69d19",
        "trusted": true
      },
      "cell_type": "code",
      "source": "# This Python 3 environment comes with many helpful analytics libraries installed\n# It is defined by the kaggle/python docker image: https://github.com/kaggle/docker-python\n# For example, here's several helpful packages to load in \n\nimport numpy as np # linear algebra\nimport pandas as pd # data processing, CSV file I/O (e.g. pd.read_csv)\n\n# Input data files are available in the \"../input/\" directory.\n# For example, running this (by clicking run or pressing Shift+Enter) will list the files in the input directory\n\nimport os\nimport pandas as pd\nimport matplotlib.pyplot as plt\nfrom itertools import cycle, islice\nprint(os.listdir(\"../input\"))\n%matplotlib inline\n# Any results you write to the current directory are saved as output.",
      "execution_count": null,
      "outputs": []
    },
    {
      "metadata": {
        "trusted": true,
        "_uuid": "492a6e9a16dcdbc9a65158535065caeafa2b8a64"
      },
      "cell_type": "code",
      "source": "color=['r', 'g', 'b', 'k', 'm', 'y']",
      "execution_count": null,
      "outputs": []
    },
    {
      "metadata": {
        "_cell_guid": "79c7e3d0-c299-4dcb-8224-4455121ee9b0",
        "_uuid": "d629ff2d2480ee46fbb7e2d37f6b5fab8052498a",
        "trusted": true
      },
      "cell_type": "code",
      "source": "sales = pd.read_csv('../input/BlackFriday.csv')",
      "execution_count": null,
      "outputs": []
    },
    {
      "metadata": {
        "trusted": true,
        "_uuid": "9e41409378460c325c7d7f4e32a14fa099c37e0a"
      },
      "cell_type": "code",
      "source": "sales.head()",
      "execution_count": null,
      "outputs": []
    },
    {
      "metadata": {
        "trusted": true,
        "_uuid": "07896052a7f5047c464b3d47730751c27451fd82"
      },
      "cell_type": "code",
      "source": "sales.info()",
      "execution_count": null,
      "outputs": []
    },
    {
      "metadata": {
        "trusted": true,
        "_uuid": "fe4ec238d1e15b3146ab3c404e313af0dae5ad67"
      },
      "cell_type": "code",
      "source": "sales.describe()",
      "execution_count": null,
      "outputs": []
    },
    {
      "metadata": {
        "trusted": true,
        "_uuid": "531e9e805e84ef8480c0793409bfa4beb38361cd"
      },
      "cell_type": "code",
      "source": "sales.hist(figsize=(20,15))",
      "execution_count": null,
      "outputs": []
    },
    {
      "metadata": {
        "trusted": true,
        "_uuid": "112dcea34bd7012ded7286e26bb234f57b4678ac"
      },
      "cell_type": "code",
      "source": "sales.columns",
      "execution_count": null,
      "outputs": []
    },
    {
      "metadata": {
        "trusted": true,
        "_uuid": "4e33059893ca64ae9fd1aa81f73465fcb57a9f16"
      },
      "cell_type": "code",
      "source": "sales['Gender'].value_counts().plot.bar(color=color)",
      "execution_count": null,
      "outputs": []
    },
    {
      "metadata": {
        "_uuid": "08f1874b8fc9c098acce44b9b766a4a7dadefee4"
      },
      "cell_type": "markdown",
      "source": "It can be inferred from the above bar graph that count of Males is 4 times that of Females"
    },
    {
      "metadata": {
        "trusted": true,
        "_uuid": "235190961e7691b2b0858e4f7bd2df9adb19c8f7"
      },
      "cell_type": "code",
      "source": "sales['Marital_Status'].value_counts().plot.bar(color=color)",
      "execution_count": null,
      "outputs": []
    },
    {
      "metadata": {
        "trusted": true,
        "_uuid": "27b2ccf4e1eda736ba0ab8264e231231039ae969"
      },
      "cell_type": "code",
      "source": "sales['Age'].value_counts().plot.hist()",
      "execution_count": null,
      "outputs": []
    },
    {
      "metadata": {
        "trusted": true,
        "_uuid": "b77ff33116e5e36458842b8a4c2cb25ed1c6a800"
      },
      "cell_type": "code",
      "source": "sales['Age'].unique()",
      "execution_count": null,
      "outputs": []
    },
    {
      "metadata": {
        "trusted": true,
        "_uuid": "be61e9da2bc8b011d61f29629067dcccab3cf135"
      },
      "cell_type": "code",
      "source": "sales.columns",
      "execution_count": null,
      "outputs": []
    },
    {
      "metadata": {
        "trusted": true,
        "_uuid": "4d057a2cd3b933f626e34abc6988fc55fb5dac1e"
      },
      "cell_type": "code",
      "source": "(sales['Product_Category_1'].unique())",
      "execution_count": null,
      "outputs": []
    },
    {
      "metadata": {
        "trusted": true,
        "_uuid": "13dc3828ef30065aeeaa952d3adba055cc3c0f6d"
      },
      "cell_type": "code",
      "source": "gender_marital_status_grouped = sales.groupby(['Gender','Marital_Status']).size().reset_index(name=\"Total\")",
      "execution_count": null,
      "outputs": []
    },
    {
      "metadata": {
        "trusted": true,
        "_uuid": "ae33a422672b25ff4f0ba00764045b6474f44f14"
      },
      "cell_type": "code",
      "source": "gender_marital_status_grouped.head()",
      "execution_count": null,
      "outputs": []
    },
    {
      "metadata": {
        "trusted": true,
        "_uuid": "f754b8b8d9ceead29079d35df458a0869c409f9c"
      },
      "cell_type": "code",
      "source": "gender_marital_status_grouped.set_index(['Gender','Marital_Status']).unstack().plot(kind='bar', stacked=True)",
      "execution_count": null,
      "outputs": []
    },
    {
      "metadata": {
        "trusted": true,
        "_uuid": "59c8c0ea0ed752e4ce2f73562ca7a4d625bc4ea7"
      },
      "cell_type": "code",
      "source": "gender_marital_status_grouped.set_index(['Marital_Status','Gender']).unstack().plot(kind='bar', stacked=True, colormap='Paired')",
      "execution_count": null,
      "outputs": []
    },
    {
      "metadata": {
        "trusted": true,
        "_uuid": "d7be8dcb351fe27e5354e182990ad15f2dcb696d"
      },
      "cell_type": "code",
      "source": "gender_marital_status_grouped.set_index(['Marital_Status','Gender']).unstack().plot(kind='bar')",
      "execution_count": null,
      "outputs": []
    },
    {
      "metadata": {
        "trusted": true,
        "_uuid": "4ecdfe7e9721a280f2ae9b2359e2e9a7f923a24c"
      },
      "cell_type": "code",
      "source": "sales.columns",
      "execution_count": null,
      "outputs": []
    },
    {
      "metadata": {
        "trusted": true,
        "_uuid": "ba33ef967cd4a0efbf47d5b5bcf975a3b5dc684f"
      },
      "cell_type": "code",
      "source": "sales['Stay_In_Current_City_Years'].unique()",
      "execution_count": null,
      "outputs": []
    },
    {
      "metadata": {
        "trusted": true,
        "_uuid": "8d69d1352799f2264b68058efc71c2ef7b94c40b"
      },
      "cell_type": "code",
      "source": "total_purchase = sales.groupby(['Gender','Marital_Status']).sum()['Purchase'].reset_index(name=\"Total\")",
      "execution_count": null,
      "outputs": []
    },
    {
      "metadata": {
        "trusted": true,
        "_uuid": "d5e1bc82be47feee05c8018a4aea4fb289554b99"
      },
      "cell_type": "code",
      "source": "total_purchase.head()",
      "execution_count": null,
      "outputs": []
    },
    {
      "metadata": {
        "trusted": true,
        "_uuid": "4a3a9a2deb26b049b203e80e798cefb8d0c0f2a1"
      },
      "cell_type": "code",
      "source": "total_purchase.set_index(['Gender','Marital_Status']).unstack().plot(kind='bar', stacked=True)",
      "execution_count": null,
      "outputs": []
    },
    {
      "metadata": {
        "trusted": true,
        "_uuid": "7374b0b93bfbff7aadaf85bbf1b5d62b795a8e8a"
      },
      "cell_type": "code",
      "source": "total_purchase.set_index(['Marital_Status','Gender']).unstack().plot(kind='bar', stacked=True)",
      "execution_count": null,
      "outputs": []
    },
    {
      "metadata": {
        "trusted": true,
        "_uuid": "02064f6cb54ddd7292b2da99e3f3104f8ecc451c"
      },
      "cell_type": "code",
      "source": "purchase_category_1_marital_status = sales.groupby(['Product_Category_1','Marital_Status',]).size().reset_index(name=\"Total\")",
      "execution_count": null,
      "outputs": []
    },
    {
      "metadata": {
        "trusted": true,
        "_uuid": "fe42e6805827f4dc877d0b2d581d4d04b91ecf51"
      },
      "cell_type": "code",
      "source": "purchase_category_1_marital_status.head(5)",
      "execution_count": null,
      "outputs": []
    },
    {
      "metadata": {
        "trusted": true,
        "_uuid": "7122a843a6a200403e8adbb893a0658edbba0ed3"
      },
      "cell_type": "code",
      "source": "purchase_category_1_marital_status.set_index(['Product_Category_1', 'Marital_Status']).unstack().plot(kind='bar', stacked=True)",
      "execution_count": null,
      "outputs": []
    },
    {
      "metadata": {
        "trusted": true,
        "_uuid": "d290ce3c103ccad807b1e9c227aa39b862ffde31"
      },
      "cell_type": "code",
      "source": "purchase_category_1_gender = sales.groupby(['Product_Category_1','Gender',]).size().reset_index(name=\"Total\")",
      "execution_count": null,
      "outputs": []
    },
    {
      "metadata": {
        "trusted": true,
        "_uuid": "b8b6b2c30ccd99e3ebe7ee2358a0b7ed281e7b2f"
      },
      "cell_type": "code",
      "source": "purchase_category_1_gender.set_index(['Product_Category_1', 'Gender']).unstack().plot(kind='bar', stacked=True)",
      "execution_count": null,
      "outputs": []
    },
    {
      "metadata": {
        "trusted": true,
        "_uuid": "8259890de09afce33c13a3ec75a46333685d394a"
      },
      "cell_type": "code",
      "source": "sales['Product_Category_1'].unique()",
      "execution_count": null,
      "outputs": []
    },
    {
      "metadata": {
        "_uuid": "9b481f96886178ef778ba0a99186957f19078e9b"
      },
      "cell_type": "markdown",
      "source": "Calculate percentage total Null values in Product Category 2 & Product Category 3"
    },
    {
      "metadata": {
        "trusted": true,
        "_uuid": "740119f3a68841b347be971d76b7cdc5e59b1bc3"
      },
      "cell_type": "code",
      "source": "(sales[['Product_Category_2','Product_Category_3']].isnull().sum()/sales.shape[0]*100).reset_index(name=\"Total\").plot.bar(x='index', y='Total', color=['r','b'], title='% of Null Values')",
      "execution_count": null,
      "outputs": []
    },
    {
      "metadata": {
        "trusted": true,
        "_uuid": "f4c4514dfb4090a7f0f3903012a40f629a685e39"
      },
      "cell_type": "code",
      "source": "purchase_category_1 = (sales.groupby(['Product_Category_1']).sum()['Purchase']/1000000).reset_index(name=\"Total\")",
      "execution_count": null,
      "outputs": []
    },
    {
      "metadata": {
        "trusted": true,
        "_uuid": "eea8dcfa75a30d4165874afd50391bc84bdc27af"
      },
      "cell_type": "code",
      "source": "purchase_category_1.plot.bar(x='Product_Category_1', y='Total', title='Purchase Value for Cateogry 1')",
      "execution_count": null,
      "outputs": []
    },
    {
      "metadata": {
        "trusted": true,
        "_uuid": "8ec10feac2e4c9e0b0b1a985a75920493b223683"
      },
      "cell_type": "code",
      "source": "purchase_category_2 = (sales.groupby(['Product_Category_2']).sum()['Purchase']/1000000).reset_index(name=\"Total\")\npurchase_category_2.plot.bar(x='Product_Category_2', y='Total', title='Purchase Value for Cateogry 2')",
      "execution_count": null,
      "outputs": []
    },
    {
      "metadata": {
        "trusted": true,
        "_uuid": "15176cc2af826cf34678814a207a39029ad2669d"
      },
      "cell_type": "code",
      "source": "purchase_category_3 = (sales.groupby(['Product_Category_3']).sum()['Purchase']/1000000).reset_index(name=\"Total\")\npurchase_category_3.plot.bar(x='Product_Category_3', y='Total', title='Purchase Value for Cateogry 3')",
      "execution_count": null,
      "outputs": []
    },
    {
      "metadata": {
        "_uuid": "351e2fc33d6adf222267e40097fdef21363137e1"
      },
      "cell_type": "markdown",
      "source": "Plot Distribution of purchase by age"
    },
    {
      "metadata": {
        "trusted": true,
        "_uuid": "444a389b371344753aa6316c86e033143f0c9ff5"
      },
      "cell_type": "code",
      "source": "purchase_by_age = (sales.groupby(['Age']).sum()['Purchase']/1000000).reset_index(name=\"Total\")\npurchase_by_age.plot.bar(x='Age', y='Total', title='Purchase Value by age')",
      "execution_count": null,
      "outputs": []
    },
    {
      "metadata": {
        "trusted": true,
        "_uuid": "660fff91b8ca8a8dd86b1ed6aa073f5b69c1cc5e"
      },
      "cell_type": "code",
      "source": "age_category1 = (sales.groupby(['Age','Product_Category_1']).size()).reset_index(name=\"Total\")\nage_category1.set_index(['Product_Category_1','Age']).unstack().plot(kind='bar', stacked=True, figsize=(20,15))",
      "execution_count": null,
      "outputs": []
    },
    {
      "metadata": {
        "trusted": true,
        "_uuid": "108a2f9b3b8b86a1148439f383dc628d003176f2"
      },
      "cell_type": "code",
      "source": "age_category1 = (sales.groupby(['Age','Product_Category_2']).size()).reset_index(name=\"Total\")\nage_category1.set_index(['Product_Category_2','Age']).unstack().plot(kind='bar', stacked=True, figsize=(20,15))",
      "execution_count": null,
      "outputs": []
    },
    {
      "metadata": {
        "trusted": true,
        "_uuid": "c5607ecba12681d16370ffa0e676aa8a0fea978f"
      },
      "cell_type": "code",
      "source": "age_category1 = (sales.groupby(['Age','Product_Category_3']).size()).reset_index(name=\"Total\")\nage_category1.set_index(['Product_Category_3','Age']).unstack().plot(kind='bar', stacked=True, figsize=(20,15))",
      "execution_count": null,
      "outputs": []
    },
    {
      "metadata": {
        "trusted": true,
        "_uuid": "f8b2500df1b8e0ed5867cec6931a04a21863c800"
      },
      "cell_type": "code",
      "source": "",
      "execution_count": null,
      "outputs": []
    }
  ],
  "metadata": {
    "kernelspec": {
      "display_name": "Python 3",
      "language": "python",
      "name": "python3"
    },
    "language_info": {
      "name": "python",
      "version": "3.6.6",
      "mimetype": "text/x-python",
      "codemirror_mode": {
        "name": "ipython",
        "version": 3
      },
      "pygments_lexer": "ipython3",
      "nbconvert_exporter": "python",
      "file_extension": ".py"
    }
  },
  "nbformat": 4,
  "nbformat_minor": 1
}
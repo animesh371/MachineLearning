{
 "cells": [
  {
   "cell_type": "code",
   "execution_count": null,
   "metadata": {
    "_cell_guid": "b1076dfc-b9ad-4769-8c92-a6c4dae69d19",
    "_uuid": "8f2839f25d086af736a60e9eeb907d3b93b6e0e5"
   },
   "outputs": [],
   "source": [
    "# This Python 3 environment comes with many helpful analytics libraries installed\n",
    "# It is defined by the kaggle/python docker image: https://github.com/kaggle/docker-python\n",
    "# For example, here's several helpful packages to load in \n",
    "\n",
    "import numpy as np # linear algebra\n",
    "import pandas as pd # data processing, CSV file I/O (e.g. pd.read_csv)\n",
    "\n",
    "# Input data files are available in the \"../input/\" directory.\n",
    "# For example, running this (by clicking run or pressing Shift+Enter) will list the files in the input directory\n",
    "\n",
    "import os\n",
    "import pandas as pd\n",
    "import matplotlib.pyplot as plt\n",
    "from itertools import cycle, islice\n",
    "print(os.listdir(\"../input\"))\n",
    "%matplotlib inline\n",
    "# Any results you write to the current directory are saved as output."
   ]
  },
  {
   "cell_type": "code",
   "execution_count": null,
   "metadata": {
    "_uuid": "492a6e9a16dcdbc9a65158535065caeafa2b8a64"
   },
   "outputs": [],
   "source": [
    "color=['r', 'g', 'b', 'k', 'm', 'y']"
   ]
  },
  {
   "cell_type": "code",
   "execution_count": null,
   "metadata": {
    "_cell_guid": "79c7e3d0-c299-4dcb-8224-4455121ee9b0",
    "_uuid": "d629ff2d2480ee46fbb7e2d37f6b5fab8052498a"
   },
   "outputs": [],
   "source": [
    "sales = pd.read_csv('../input/BlackFriday.csv')"
   ]
  },
  {
   "cell_type": "code",
   "execution_count": null,
   "metadata": {
    "_uuid": "9e41409378460c325c7d7f4e32a14fa099c37e0a"
   },
   "outputs": [],
   "source": [
    "sales.head()"
   ]
  },
  {
   "cell_type": "code",
   "execution_count": null,
   "metadata": {
    "_uuid": "07896052a7f5047c464b3d47730751c27451fd82"
   },
   "outputs": [],
   "source": [
    "sales.info()"
   ]
  },
  {
   "cell_type": "code",
   "execution_count": null,
   "metadata": {
    "_uuid": "fe4ec238d1e15b3146ab3c404e313af0dae5ad67"
   },
   "outputs": [],
   "source": [
    "sales.describe()"
   ]
  },
  {
   "cell_type": "code",
   "execution_count": null,
   "metadata": {
    "_uuid": "531e9e805e84ef8480c0793409bfa4beb38361cd"
   },
   "outputs": [],
   "source": [
    "sales.hist(figsize=(20,15))"
   ]
  },
  {
   "cell_type": "code",
   "execution_count": null,
   "metadata": {
    "_uuid": "112dcea34bd7012ded7286e26bb234f57b4678ac"
   },
   "outputs": [],
   "source": [
    "sales.columns"
   ]
  },
  {
   "cell_type": "code",
   "execution_count": null,
   "metadata": {
    "_uuid": "4e33059893ca64ae9fd1aa81f73465fcb57a9f16"
   },
   "outputs": [],
   "source": [
    "sales['Gender'].value_counts().plot.bar(color=color)"
   ]
  },
  {
   "cell_type": "markdown",
   "metadata": {
    "_uuid": "08f1874b8fc9c098acce44b9b766a4a7dadefee4"
   },
   "source": [
    "It can be inferred from the above bar graph that count of Males is 4 times that of Females"
   ]
  },
  {
   "cell_type": "code",
   "execution_count": null,
   "metadata": {
    "_uuid": "235190961e7691b2b0858e4f7bd2df9adb19c8f7"
   },
   "outputs": [],
   "source": [
    "sales['Marital_Status'].value_counts().plot.bar(color=color)"
   ]
  },
  {
   "cell_type": "code",
   "execution_count": null,
   "metadata": {
    "_uuid": "27b2ccf4e1eda736ba0ab8264e231231039ae969"
   },
   "outputs": [],
   "source": [
    "sales['Age'].value_counts().plot.hist()"
   ]
  },
  {
   "cell_type": "code",
   "execution_count": null,
   "metadata": {
    "_uuid": "b77ff33116e5e36458842b8a4c2cb25ed1c6a800"
   },
   "outputs": [],
   "source": [
    "sales['Age'].unique()"
   ]
  },
  {
   "cell_type": "code",
   "execution_count": null,
   "metadata": {
    "_uuid": "be61e9da2bc8b011d61f29629067dcccab3cf135"
   },
   "outputs": [],
   "source": [
    "sales.columns"
   ]
  },
  {
   "cell_type": "code",
   "execution_count": null,
   "metadata": {
    "_uuid": "4d057a2cd3b933f626e34abc6988fc55fb5dac1e"
   },
   "outputs": [],
   "source": [
    "(sales['Product_Category_1'].unique())"
   ]
  },
  {
   "cell_type": "code",
   "execution_count": null,
   "metadata": {
    "_uuid": "13dc3828ef30065aeeaa952d3adba055cc3c0f6d"
   },
   "outputs": [],
   "source": [
    "gender_marital_status_grouped = sales.groupby(['Gender','Marital_Status']).size().reset_index(name=\"Total\")"
   ]
  },
  {
   "cell_type": "code",
   "execution_count": null,
   "metadata": {
    "_uuid": "ae33a422672b25ff4f0ba00764045b6474f44f14"
   },
   "outputs": [],
   "source": [
    "gender_marital_status_grouped.head()"
   ]
  },
  {
   "cell_type": "code",
   "execution_count": null,
   "metadata": {
    "_uuid": "f754b8b8d9ceead29079d35df458a0869c409f9c"
   },
   "outputs": [],
   "source": [
    "gender_marital_status_grouped.set_index(['Gender','Marital_Status']).unstack().plot(kind='bar', stacked=True)"
   ]
  },
  {
   "cell_type": "code",
   "execution_count": null,
   "metadata": {
    "_uuid": "59c8c0ea0ed752e4ce2f73562ca7a4d625bc4ea7"
   },
   "outputs": [],
   "source": [
    "gender_marital_status_grouped.set_index(['Marital_Status','Gender']).unstack().plot(kind='bar', stacked=True, colormap='Paired')"
   ]
  },
  {
   "cell_type": "code",
   "execution_count": null,
   "metadata": {
    "_uuid": "d7be8dcb351fe27e5354e182990ad15f2dcb696d"
   },
   "outputs": [],
   "source": [
    "gender_marital_status_grouped.set_index(['Marital_Status','Gender']).unstack().plot(kind='bar')"
   ]
  },
  {
   "cell_type": "code",
   "execution_count": null,
   "metadata": {
    "_uuid": "4ecdfe7e9721a280f2ae9b2359e2e9a7f923a24c"
   },
   "outputs": [],
   "source": [
    "sales.columns"
   ]
  },
  {
   "cell_type": "code",
   "execution_count": null,
   "metadata": {
    "_uuid": "ba33ef967cd4a0efbf47d5b5bcf975a3b5dc684f"
   },
   "outputs": [],
   "source": [
    "sales['Stay_In_Current_City_Years'].unique()"
   ]
  },
  {
   "cell_type": "code",
   "execution_count": null,
   "metadata": {
    "_uuid": "8d69d1352799f2264b68058efc71c2ef7b94c40b"
   },
   "outputs": [],
   "source": [
    "total_purchase = sales.groupby(['Gender','Marital_Status']).sum()['Purchase'].reset_index(name=\"Total\")"
   ]
  },
  {
   "cell_type": "code",
   "execution_count": null,
   "metadata": {
    "_uuid": "d5e1bc82be47feee05c8018a4aea4fb289554b99"
   },
   "outputs": [],
   "source": [
    "total_purchase.head()"
   ]
  },
  {
   "cell_type": "code",
   "execution_count": null,
   "metadata": {
    "_uuid": "4a3a9a2deb26b049b203e80e798cefb8d0c0f2a1"
   },
   "outputs": [],
   "source": [
    "total_purchase.set_index(['Gender','Marital_Status']).unstack().plot(kind='bar', stacked=True)"
   ]
  },
  {
   "cell_type": "code",
   "execution_count": null,
   "metadata": {
    "_uuid": "7374b0b93bfbff7aadaf85bbf1b5d62b795a8e8a"
   },
   "outputs": [],
   "source": [
    "total_purchase.set_index(['Marital_Status','Gender']).unstack().plot(kind='bar', stacked=True)"
   ]
  },
  {
   "cell_type": "code",
   "execution_count": null,
   "metadata": {
    "_uuid": "02064f6cb54ddd7292b2da99e3f3104f8ecc451c"
   },
   "outputs": [],
   "source": [
    "purchase_category_1_marital_status = sales.groupby(['Product_Category_1','Marital_Status',]).size().reset_index(name=\"Total\")"
   ]
  },
  {
   "cell_type": "code",
   "execution_count": null,
   "metadata": {
    "_uuid": "fe42e6805827f4dc877d0b2d581d4d04b91ecf51"
   },
   "outputs": [],
   "source": [
    "purchase_category_1_marital_status.head(5)"
   ]
  },
  {
   "cell_type": "code",
   "execution_count": null,
   "metadata": {
    "_uuid": "7122a843a6a200403e8adbb893a0658edbba0ed3"
   },
   "outputs": [],
   "source": [
    "purchase_category_1_marital_status.set_index(['Product_Category_1', 'Marital_Status']).unstack().plot(kind='bar', stacked=True)"
   ]
  },
  {
   "cell_type": "code",
   "execution_count": null,
   "metadata": {
    "_uuid": "d290ce3c103ccad807b1e9c227aa39b862ffde31"
   },
   "outputs": [],
   "source": [
    "purchase_category_1_gender = sales.groupby(['Product_Category_1','Gender',]).size().reset_index(name=\"Total\")"
   ]
  },
  {
   "cell_type": "code",
   "execution_count": null,
   "metadata": {
    "_uuid": "b8b6b2c30ccd99e3ebe7ee2358a0b7ed281e7b2f"
   },
   "outputs": [],
   "source": [
    "purchase_category_1_gender.set_index(['Product_Category_1', 'Gender']).unstack().plot(kind='bar', stacked=True)"
   ]
  },
  {
   "cell_type": "code",
   "execution_count": null,
   "metadata": {
    "_uuid": "8259890de09afce33c13a3ec75a46333685d394a"
   },
   "outputs": [],
   "source": [
    "sales['Product_Category_1'].unique()"
   ]
  },
  {
   "cell_type": "markdown",
   "metadata": {
    "_uuid": "9b481f96886178ef778ba0a99186957f19078e9b"
   },
   "source": [
    "Calculate percentage total Null values in Product Category 2 & Product Category 3"
   ]
  },
  {
   "cell_type": "code",
   "execution_count": null,
   "metadata": {
    "_uuid": "740119f3a68841b347be971d76b7cdc5e59b1bc3"
   },
   "outputs": [],
   "source": [
    "(sales[['Product_Category_2','Product_Category_3']].isnull().sum()/sales.shape[0]*100).reset_index(name=\"Total\").plot.bar(x='index', y='Total', color=['r','b'], title='% of Null Values')"
   ]
  },
  {
   "cell_type": "code",
   "execution_count": null,
   "metadata": {
    "_uuid": "f4c4514dfb4090a7f0f3903012a40f629a685e39"
   },
   "outputs": [],
   "source": [
    "purchase_category_1 = (sales.groupby(['Product_Category_1']).sum()['Purchase']/1000000).reset_index(name=\"Total\")"
   ]
  },
  {
   "cell_type": "code",
   "execution_count": null,
   "metadata": {
    "_uuid": "eea8dcfa75a30d4165874afd50391bc84bdc27af"
   },
   "outputs": [],
   "source": [
    "purchase_category_1.plot.bar(x='Product_Category_1', y='Total', title='Purchase Value for Cateogry 1')"
   ]
  },
  {
   "cell_type": "code",
   "execution_count": null,
   "metadata": {
    "_uuid": "8ec10feac2e4c9e0b0b1a985a75920493b223683"
   },
   "outputs": [],
   "source": [
    "purchase_category_2 = (sales.groupby(['Product_Category_2']).sum()['Purchase']/1000000).reset_index(name=\"Total\")\n",
    "purchase_category_2.plot.bar(x='Product_Category_2', y='Total', title='Purchase Value for Cateogry 2')"
   ]
  },
  {
   "cell_type": "code",
   "execution_count": null,
   "metadata": {
    "_uuid": "15176cc2af826cf34678814a207a39029ad2669d"
   },
   "outputs": [],
   "source": [
    "purchase_category_3 = (sales.groupby(['Product_Category_3']).sum()['Purchase']/1000000).reset_index(name=\"Total\")\n",
    "purchase_category_3.plot.bar(x='Product_Category_3', y='Total', title='Purchase Value for Cateogry 3')"
   ]
  },
  {
   "cell_type": "markdown",
   "metadata": {
    "_uuid": "351e2fc33d6adf222267e40097fdef21363137e1"
   },
   "source": [
    "Plot Distribution of purchase by age"
   ]
  },
  {
   "cell_type": "code",
   "execution_count": null,
   "metadata": {
    "_uuid": "444a389b371344753aa6316c86e033143f0c9ff5"
   },
   "outputs": [],
   "source": [
    "purchase_by_age = (sales.groupby(['Age']).sum()['Purchase']/1000000).reset_index(name=\"Total\")\n",
    "purchase_by_age.plot.bar(x='Age', y='Total', title='Purchase Value by age')"
   ]
  },
  {
   "cell_type": "code",
   "execution_count": null,
   "metadata": {
    "_uuid": "660fff91b8ca8a8dd86b1ed6aa073f5b69c1cc5e"
   },
   "outputs": [],
   "source": [
    "age_category1 = (sales.groupby(['Age','Product_Category_1']).size()).reset_index(name=\"Total\")\n",
    "age_category1.set_index(['Product_Category_1','Age']).unstack().plot(kind='bar', stacked=True, figsize=(20,15))"
   ]
  },
  {
   "cell_type": "code",
   "execution_count": null,
   "metadata": {
    "_uuid": "108a2f9b3b8b86a1148439f383dc628d003176f2"
   },
   "outputs": [],
   "source": [
    "age_category1 = (sales.groupby(['Age','Product_Category_2']).size()).reset_index(name=\"Total\")\n",
    "age_category1.set_index(['Product_Category_2','Age']).unstack().plot(kind='bar', stacked=True, figsize=(20,15))"
   ]
  },
  {
   "cell_type": "code",
   "execution_count": null,
   "metadata": {
    "_uuid": "c5607ecba12681d16370ffa0e676aa8a0fea978f"
   },
   "outputs": [],
   "source": [
    "age_category1 = (sales.groupby(['Age','Product_Category_3']).size()).reset_index(name=\"Total\")\n",
    "age_category1.set_index(['Product_Category_3','Age']).unstack().plot(kind='bar', stacked=True, figsize=(20,15))"
   ]
  },
  {
   "cell_type": "code",
   "execution_count": null,
   "metadata": {
    "_uuid": "f8b2500df1b8e0ed5867cec6931a04a21863c800"
   },
   "outputs": [],
   "source": []
  }
 ],
 "metadata": {
  "kernelspec": {
   "display_name": "Python 3",
   "language": "python",
   "name": "python3"
  },
  "language_info": {
   "codemirror_mode": {
    "name": "ipython",
    "version": 3
   },
   "file_extension": ".py",
   "mimetype": "text/x-python",
   "name": "python",
   "nbconvert_exporter": "python",
   "pygments_lexer": "ipython3",
   "version": "3.6.4"
  }
 },
 "nbformat": 4,
 "nbformat_minor": 1
}
